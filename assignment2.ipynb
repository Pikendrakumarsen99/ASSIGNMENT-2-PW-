{
  "nbformat": 4,
  "nbformat_minor": 0,
  "metadata": {
    "colab": {
      "provenance": []
    },
    "kernelspec": {
      "name": "python3",
      "display_name": "Python 3"
    },
    "language_info": {
      "name": "python"
    }
  },
  "cells": [
    {
      "cell_type": "code",
      "execution_count": null,
      "metadata": {
        "id": "dfHnnSSAKwaX"
      },
      "outputs": [],
      "source": []
    },
    {
      "cell_type": "markdown",
      "source": [
        "# QUESTION AND ANSWER\n",
        "*italicized text*"
      ],
      "metadata": {
        "id": "etLw0g19LUl0"
      }
    },
    {
      "cell_type": "markdown",
      "source": [
        "1 --#ANS Data structure are a way of organising the data so that they can use efficiently they are fundamently used in computer science and technology field\n",
        "and also allow effective management\n"
      ],
      "metadata": {
        "id": "mcVN_zisLdx6"
      }
    },
    {
      "cell_type": "markdown",
      "source": [],
      "metadata": {
        "id": "CPS3qazILpoE"
      }
    },
    {
      "cell_type": "markdown",
      "source": [
        "2 --: #ans mutable data type they can modify after input but in case of immutable data type it cannot change the input value\n"
      ],
      "metadata": {
        "id": "4fc71pW-N83K"
      }
    },
    {
      "cell_type": "markdown",
      "source": [],
      "metadata": {
        "id": "PinTFriWLEJl"
      }
    },
    {
      "cell_type": "markdown",
      "source": [
        "3:- #ans list are mutable and tuples are immutable\n",
        "  list - this means it their element can be change ed or modified\n",
        "  tuple- it means that the values cannot be changeed"
      ],
      "metadata": {
        "id": "qoynicWqO8jN"
      }
    },
    {
      "cell_type": "markdown",
      "source": [
        "4:- #ans key : value pair that is called dictionaries\n",
        "\n",
        "---\n",
        "\n",
        "\n",
        "\n",
        "---\n",
        "\n"
      ],
      "metadata": {
        "id": "SdAqM5mMSSnZ"
      }
    },
    {
      "cell_type": "markdown",
      "source": [
        "5:- because it has unique feature of uniqueness of element\n",
        "and fast membership testing\n"
      ],
      "metadata": {
        "id": "ZW-aXuKSU-FJ"
      }
    },
    {
      "cell_type": "markdown",
      "source": [
        "6 ans :-  string in python are sequence of character inclosed in quotes\n"
      ],
      "metadata": {
        "id": "VmIUxrKZWKkd"
      }
    },
    {
      "cell_type": "markdown",
      "source": [
        "7 ans :- once created context cannot be modified , neither ther element nor the size  "
      ],
      "metadata": {
        "id": "lK1wYHdM7KlK"
      }
    },
    {
      "cell_type": "markdown",
      "source": [],
      "metadata": {
        "id": "DZRYn_8aYKaa"
      }
    },
    {
      "cell_type": "markdown",
      "source": [
        "8 :-   hash table is a data structure that offers an efficient  way to organize  data for quick access"
      ],
      "metadata": {
        "id": "wvAAdk8LBtcU"
      }
    },
    {
      "cell_type": "markdown",
      "source": [
        "9:-   yes list in python 3 can contain different data type , this is  fundamental characterstics for python"
      ],
      "metadata": {
        "id": "8HPT9rw8CHeI"
      }
    },
    {
      "cell_type": "markdown",
      "source": [
        "10 :-  strings are immutable in python , means that content cannot be edit."
      ],
      "metadata": {
        "id": "XWDi1PqgDnKJ"
      }
    },
    {
      "cell_type": "markdown",
      "source": [
        "11 :-    dictonaries are ideal for task requaring\n"
      ],
      "metadata": {
        "id": "myX8pBk7Ea9y"
      }
    },
    {
      "cell_type": "markdown",
      "source": [
        "12:-   tuples are faster  than list\n",
        "if you are defining a constant set you are even going to do\n"
      ],
      "metadata": {
        "id": "69eb8NWKINB-"
      }
    },
    {
      "cell_type": "markdown",
      "source": [],
      "metadata": {
        "id": "plcRUyJz_SiL"
      }
    },
    {
      "cell_type": "markdown",
      "source": [
        "13;-  python  sets inherenntly do not allow duplicate value"
      ],
      "metadata": {
        "id": "QUsRDws3Io07"
      }
    },
    {
      "cell_type": "markdown",
      "source": [],
      "metadata": {
        "id": "7y2g8DSJJF5b"
      }
    },
    {
      "cell_type": "markdown",
      "source": [
        "14 ;-  dictonary value can be duplicated like a list\n"
      ],
      "metadata": {
        "id": "PV1DpzP6JMpN"
      }
    },
    {
      "cell_type": "markdown",
      "source": [],
      "metadata": {
        "id": "IU59osZEBn7U"
      }
    },
    {
      "cell_type": "markdown",
      "source": [
        "15 :-   no you connot directly modify the elements of tuple in python\n"
      ],
      "metadata": {
        "id": "TxAitbyAJ9kW"
      }
    },
    {
      "cell_type": "markdown",
      "source": [],
      "metadata": {
        "id": "uZfWR1qIU3ly"
      }
    },
    {
      "cell_type": "markdown",
      "source": [],
      "metadata": {
        "id": "Tsp5TSgKKUtU"
      }
    },
    {
      "cell_type": "code",
      "source": [
        "#PRACTICAL QUESTIONS"
      ],
      "metadata": {
        "id": "6nt7lIV-KXl8"
      },
      "execution_count": 1,
      "outputs": []
    },
    {
      "cell_type": "code",
      "source": [
        "QUESTION 1 #ANS\n",
        "NAME = \" METAK\"\n",
        "PRINT(NAME)\n"
      ],
      "metadata": {
        "id": "keYzCUEoKdo5"
      },
      "execution_count": null,
      "outputs": []
    },
    {
      "cell_type": "markdown",
      "source": [],
      "metadata": {
        "id": "o_fHFE29LClQ"
      }
    },
    {
      "cell_type": "code",
      "source": [
        "from re import S\n",
        "#2 #ANS\n",
        "s= \"HELLO WORLD\"\n",
        "length = len(s)\n",
        "print(\"THE LENTH OF THE SRTING IS \", length)\n",
        "print(\"THE LENTH OF THE SRTING IS \", length)"
      ],
      "metadata": {
        "colab": {
          "base_uri": "https://localhost:8080/"
        },
        "id": "UG1tE1lWMHYb",
        "outputId": "5d682afe-d981-4a50-e69b-4c4ba0c2f068"
      },
      "execution_count": 8,
      "outputs": [
        {
          "output_type": "stream",
          "name": "stdout",
          "text": [
            "THE LENTH OF THE SRTING IS  11\n",
            "THE LENTH OF THE SRTING IS  11\n"
          ]
        }
      ]
    },
    {
      "cell_type": "code",
      "source": [],
      "metadata": {
        "id": "Wpztw-B4MwYA"
      },
      "execution_count": null,
      "outputs": []
    }
  ]
}